{
 "cells": [
  {
   "cell_type": "code",
   "execution_count": 1,
   "id": "34da2831",
   "metadata": {},
   "outputs": [
    {
     "name": "stderr",
     "output_type": "stream",
     "text": [
      "── \u001b[1mAttaching packages\u001b[22m ─────────────────────────────────────────────────────────────────────────────── tidyverse 1.3.1 ──\n",
      "\n",
      "\u001b[32m✔\u001b[39m \u001b[34mggplot2\u001b[39m 3.3.6     \u001b[32m✔\u001b[39m \u001b[34mpurrr  \u001b[39m 0.3.4\n",
      "\u001b[32m✔\u001b[39m \u001b[34mtibble \u001b[39m 3.1.7     \u001b[32m✔\u001b[39m \u001b[34mdplyr  \u001b[39m 1.0.9\n",
      "\u001b[32m✔\u001b[39m \u001b[34mtidyr  \u001b[39m 1.2.0     \u001b[32m✔\u001b[39m \u001b[34mstringr\u001b[39m 1.4.0\n",
      "\u001b[32m✔\u001b[39m \u001b[34mreadr  \u001b[39m 2.1.2     \u001b[32m✔\u001b[39m \u001b[34mforcats\u001b[39m 0.5.1\n",
      "\n",
      "── \u001b[1mConflicts\u001b[22m ────────────────────────────────────────────────────────────────────────────────── tidyverse_conflicts() ──\n",
      "\u001b[31m✖\u001b[39m \u001b[34mdplyr\u001b[39m::\u001b[32mfilter()\u001b[39m masks \u001b[34mstats\u001b[39m::filter()\n",
      "\u001b[31m✖\u001b[39m \u001b[34mdplyr\u001b[39m::\u001b[32mlag()\u001b[39m    masks \u001b[34mstats\u001b[39m::lag()\n",
      "\n",
      "Loading required package: Matrix\n",
      "\n",
      "\n",
      "Attaching package: 'Matrix'\n",
      "\n",
      "\n",
      "The following objects are masked from 'package:tidyr':\n",
      "\n",
      "    expand, pack, unpack\n",
      "\n",
      "\n",
      "Version:  1.38.6\n",
      "Date:     2022-04-06\n",
      "Author:   Philip Leifeld (University of Essex)\n",
      "\n",
      "Consider submitting praise using the praise or praise_interactive functions.\n",
      "Please cite the JSS article in your publications -- see citation(\"texreg\").\n",
      "\n",
      "\n",
      "Attaching package: 'texreg'\n",
      "\n",
      "\n",
      "The following object is masked from 'package:tidyr':\n",
      "\n",
      "    extract\n",
      "\n",
      "\n",
      "\n",
      "Attaching package: 'influence.ME'\n",
      "\n",
      "\n",
      "The following object is masked from 'package:stats':\n",
      "\n",
      "    influence\n",
      "\n",
      "\n"
     ]
    }
   ],
   "source": [
    "library(tidyverse) # Add the tidyverse package to my current library.\n",
    "library(haven) # Handle labelled data.\n",
    "library(essurvey) # Add ESS API package.\n",
    "library(lme4) # For regression with robust SE\n",
    "library(estimatr) # For regression with robust SE\n",
    "library(parameters) # Library with many useful tools\n",
    "library(texreg) # For nicely-formatted regression tables\n",
    "library(iimm) # Numerical df approximation\n",
    "library(modelr)\n",
    "library(influence.ME)\n",
    "library(webshot)"
   ]
  },
  {
   "cell_type": "code",
   "execution_count": 2,
   "id": "38a84ae8",
   "metadata": {},
   "outputs": [],
   "source": [
    "# Small self-written function for z-standardization\n",
    "std <- function(x) {\n",
    "  (x - mean(x, na.rm = TRUE)) / sd(x, na.rm = TRUE)\n",
    "}\n",
    "\n",
    "\n",
    "# A small function to calculate ICC from a lme4 model. \n",
    "# Dependencies: broom.mixed, dplyr, lme4\n",
    "icc <- function(model){\n",
    "  icc <- data.frame(broom.mixed::tidy(model, effects=c(\"ran_pars\"))) %>%\n",
    "    mutate(variance = estimate^2) %>%\n",
    "    mutate(icc = variance / sum(variance)) %>%\n",
    "    filter(term == \"sd__(Intercept)\")\n",
    "  return(icc$icc)\n",
    "}\n",
    "\n"
   ]
  },
  {
   "cell_type": "code",
   "execution_count": 3,
   "id": "f8030f00",
   "metadata": {},
   "outputs": [],
   "source": [
    "# RI "
   ]
  },
  {
   "cell_type": "code",
   "execution_count": 4,
   "id": "dc7d7e39",
   "metadata": {},
   "outputs": [],
   "source": [
    "# import data\n",
    "# macro-level predictor: Proportion of immigrants (Eurostat data)\n",
    "\n",
    "ESS <-read_dta(\"C:/Users/10292/Desktop/Xeno_data/ESS7e02_2.dta\")%>%\n",
    "  recode_missings() %>%\n",
    "  inner_join(., read.csv(\"C:/Users/10292/Desktop/Xeno_data/rate.csv\", header=T, na.strings=c(\"NA\")), by = \"cntry\")"
   ]
  },
  {
   "cell_type": "code",
   "execution_count": 5,
   "id": "6a7ac0c5",
   "metadata": {},
   "outputs": [],
   "source": [
    "# Add re-scaled post-stratification weights to ESS\n",
    "ESS <- rescale_weights(data = ESS,\n",
    "                       group = \"cntry\", \n",
    "                       probability_weights = \"pspwght\")\n"
   ]
  },
  {
   "cell_type": "code",
   "execution_count": 6,
   "id": "a692e572",
   "metadata": {},
   "outputs": [],
   "source": [
    "# outcome variable: General xenophobia \n",
    "#B34 - is [country] made a worse or better place to live by people coming to live here from other countries? \n",
    "#(0 Worse place to live)\n",
    "ESS <- ESS %>%\n",
    "  mutate(\n",
    "    xeno = (max(imwbcnt, na.rm = TRUE) - imwbcnt) %>% std())\n",
    "#larger xeno -> more xenophobia"
   ]
  },
  {
   "cell_type": "code",
   "execution_count": 7,
   "id": "fbe31e54",
   "metadata": {},
   "outputs": [],
   "source": [
    "#individual-level predictor: misperception\n",
    "#perception: D16 Out of every 100 people living in [country], how many do you think were born outside [country]?\n",
    "ESS<- ESS %>%\n",
    "  mutate(    \n",
    "    est_rate = zap_labels(noimbro),\n",
    "    diff_rate = (est_rate - immi_rate) %>% std())\n",
    "\n",
    "#individual-level control variables\n",
    "# Media news consumption: A1 TV watching, total time on average weekday(0 No time at all)\n",
    "# Place of residence: F14 Which phrase on this card best describes the area where you live (1 A big city)\n",
    "# Age: F31b\n",
    "# Education: F16\n",
    "# Close friends from different race or ethnic group (1 Yes, several)\n",
    "ESS <- ESS %>%\n",
    "  mutate(    \n",
    "    media = zap_labels(tvtot)%>% std(),# larger -> more consumption\n",
    "    residence = (max(domicil, na.rm = TRUE) - domicil)%>% std(),# larger -> biger city\n",
    "    age = zap_labels(agea)%>% std(),\n",
    "    education = zap_labels(eduyrs)%>% std(),\n",
    "    friends=(max(dfegcf, na.rm = TRUE) - dfegcf)%>% std()) # larger -> more those friends\n",
    "\n"
   ]
  },
  {
   "cell_type": "code",
   "execution_count": null,
   "id": "4b7fd1e8",
   "metadata": {},
   "outputs": [],
   "source": []
  },
  {
   "cell_type": "code",
   "execution_count": 8,
   "id": "2c54e482",
   "metadata": {},
   "outputs": [],
   "source": [
    "# country-level variables:\n",
    "# predictor(micro-level contextual effect): National identification：D22 How close do you feel to [country]? (1 Very close)\n",
    "# control variables : Economic insecurity: F42 Feeling about household's income nowadays (1 Living comfortably on present income)\n",
    "\n",
    "ESS <- ESS %>%\n",
    "  mutate(    \n",
    "    national_iden = max(fclcntr, na.rm = TRUE) - fclcntr,# larger -> closer\n",
    "    econ_inse = zap_labels(hincfel)) # larger -> more insecure\n",
    "\n"
   ]
  },
  {
   "cell_type": "code",
   "execution_count": 9,
   "id": "63a0556b",
   "metadata": {},
   "outputs": [],
   "source": [
    "# Generate average by country, \n",
    "ESS_cnt<- ESS%>% group_by(cntry) %>%\n",
    "summarize(xeno.j = mean(xeno, na.rm = TRUE),\n",
    "          national_iden.j = mean(national_iden, na.rm = TRUE),\n",
    "          econ_inse.j=mean(econ_inse,na.rm=TRUE)) %>%drop_na()\n",
    "\n",
    "ESS_cnt <- ESS_cnt %>%\n",
    "  mutate(    \n",
    "    xeno.j = xeno.j %>% std(),\n",
    "    national_iden.j = national_iden.j %>% std(),\n",
    "    econ_inse.j = econ_inse.j %>% std()\n",
    "  )"
   ]
  },
  {
   "cell_type": "code",
   "execution_count": 10,
   "id": "b6d0fefb",
   "metadata": {},
   "outputs": [],
   "source": [
    "data <-  left_join(ESS, ESS_cnt, by = \"cntry\")%>% # & conjoin to micro-level data.\n",
    "  # Keep only the following variables\n",
    "  select(cntry, xeno,xeno.j,econ_inse.j,national_iden.j,est_rate,diff_rate,econ_inse,media,residence,age,friends,education,pweights_a) %>%\n",
    "  drop_na() "
   ]
  },
  {
   "cell_type": "code",
   "execution_count": 11,
   "id": "68cd76d7",
   "metadata": {},
   "outputs": [
    {
     "data": {
      "image/png": "[encoded data removed]",
      "text/plain": [
       "plot without title"
      ]
     },
     "metadata": {
      "image/png": {
       "height": 420,
       "width": 420
      }
     },
     "output_type": "display_data"
    }
   ],
   "source": [
    "p<-ggplot(ESS_cnt, aes(x = national_iden.j, y = xeno.j, label = cntry)) + \n",
    "  geom_point() + \n",
    "  geom_smooth(method = \"lm\", formula = \"y ~ x\") + #By default, it is the 95% confidence level interval for predictions from a linear model (\"lm\").\n",
    "  geom_text(vjust=-0.4, check_overlap = TRUE) +\n",
    "  labs(y = \"Xenophobia towards immigrants\", x = \"National identification\") +\n",
    "  theme_light()\n",
    "\n",
    "p\n",
    "ggsave(\"national_iden vs xeno.png\", dpi= 600, width = 4, height = 4)"
   ]
  },
  {
   "cell_type": "code",
   "execution_count": 12,
   "id": "b7c55c78",
   "metadata": {},
   "outputs": [
    {
     "name": "stderr",
     "output_type": "stream",
     "text": [
      "The table was written to the file 'ri_empty.html'.\n",
      "\n",
      "\n"
     ]
    }
   ],
   "source": [
    "#empty\n",
    "\n",
    "ri_empty <- lmer(xeno ~ (1 | cntry), data = data,weights = pweights_a)\n",
    "                 \n",
    "htmlreg(\n",
    "  list(ri_empty), \n",
    "  file=\"ri_empty.html\", \n",
    "  include.ci = FALSE, \n",
    "  custom.coef.names = c(\n",
    "    \"Intercept\"\n",
    "  ),\n",
    "  custom.model.names = c(\n",
    "    \"RI empty\"\n",
    "  ),\n",
    "  digits = 3,\n",
    "  caption = \"\",\n",
    "  custom.gof.rows = list(\"ICC\" = c(\n",
    "    paste0(round(icc(ri_empty)*100, digits=2),\"%\")\n",
    "  )\n",
    "  )\n",
    ")\n",
    "webshot(\"ri_empty.html\", \"ri_empty.png\")"
   ]
  },
  {
   "cell_type": "code",
   "execution_count": 13,
   "id": "4428a831",
   "metadata": {},
   "outputs": [],
   "source": [
    "#RI"
   ]
  },
  {
   "cell_type": "code",
   "execution_count": 14,
   "id": "265a8256",
   "metadata": {},
   "outputs": [
    {
     "data": {
      "text/plain": [
       "Linear mixed model fit by REML ['lmerMod']\n",
       "   t-tests use the Heuristic method.\n",
       "Formula: xeno ~ diff_rate + national_iden.j + age + education + friends +  \n",
       "    residence + media + econ_inse.j + (1 | cntry)\n",
       "   Data: data\n",
       "Weights: pweights_a\n",
       "\n",
       "REML criterion at convergence: 90655.5\n",
       "\n",
       "Scaled residuals: \n",
       "    Min      1Q  Median      3Q     Max \n",
       "-5.3934 -0.6007 -0.0196  0.5614  4.9910 \n",
       "\n",
       "Random effects:\n",
       " Groups   Name        Variance Std.Dev.\n",
       " cntry    (Intercept) 0.03502  0.1871  \n",
       " Residual             0.83890  0.9159  \n",
       "Number of obs: 32832, groups:  cntry, 20\n",
       "\n",
       "Coefficients:\n",
       "                Estimate Std.Err t value    Df  Lower   Upper   Pr(>|t|)     \n",
       "(Intercept)      0.0042  0.0422    0.1004    17 -0.0847  0.0932 0.92121      \n",
       "diff_rate        0.0953  0.0055   17.2430 32825  0.0845  0.1061 < 2.2e-16 ***\n",
       "national_iden.j -0.0390  0.0443   -0.8805    17 -0.1324  0.0544 0.39087      \n",
       "age              0.0262  0.0056    4.7036 32825  0.0153  0.0371 2.566e-06 ***\n",
       "education       -0.1515  0.0057  -26.6846 32825 -0.1626 -0.1404 < 2.2e-16 ***\n",
       "friends         -0.1577  0.0054  -29.3958 32825 -0.1683 -0.1472 < 2.2e-16 ***\n",
       "residence       -0.0461  0.0053   -8.7591 32825 -0.0565 -0.0358 < 2.2e-16 ***\n",
       "media            0.0577  0.0055   10.3979 32825  0.0468  0.0685 < 2.2e-16 ***\n",
       "econ_inse.j      0.1440  0.0443    3.2492    17  0.0505  0.2374 0.00472   ** \n",
       "---\n",
       "Signif. codes:  0 '***' 0.001 '**' 0.01 '*' 0.05 '.' 0.1 ' ' 1"
      ]
     },
     "metadata": {},
     "output_type": "display_data"
    }
   ],
   "source": [
    "ri_mod3 <- lmer(xeno ~ diff_rate+national_iden.j+age+education+friends+residence+media+econ_inse.j+(1 | cntry), data = data,weights = pweights_a)\n",
    "\n",
    "ri_mod3_t <- lmer_t(ri_mod3, method = \"Heuristic\") # Alternativelym, method = \"Heuristic\" for M-l-1 rule.\n",
    "summary(ri_mod3_t)\n",
    "\n",
    "ri_mod3_o <- texreg::extract(ri_mod3)\n",
    "ri_mod3_o@pvalues <- summary(ri_mod3_t)$coef[,7]\n",
    "\n"
   ]
  },
  {
   "cell_type": "code",
   "execution_count": null,
   "id": "d6a4c35f",
   "metadata": {},
   "outputs": [],
   "source": []
  },
  {
   "cell_type": "code",
   "execution_count": 15,
   "id": "362c7353",
   "metadata": {},
   "outputs": [],
   "source": [
    "#RIS  "
   ]
  },
  {
   "cell_type": "code",
   "execution_count": 16,
   "id": "f769bff9",
   "metadata": {},
   "outputs": [
    {
     "data": {
      "text/plain": [
       "Linear mixed model fit by REML ['lmerMod']\n",
       "   t-tests use the Heuristic method.\n",
       "Formula: xeno ~ diff_rate + (1 + diff_rate | cntry)\n",
       "   Data: data\n",
       "Weights: pweights_a\n",
       "\n",
       "REML criterion at convergence: 93142.3\n",
       "\n",
       "Scaled residuals: \n",
       "    Min      1Q  Median      3Q     Max \n",
       "-5.5027 -0.6056  0.0136  0.5462  4.3560 \n",
       "\n",
       "Random effects:\n",
       " Groups   Name        Variance Std.Dev. Corr\n",
       " cntry    (Intercept) 0.070239 0.26503      \n",
       "          diff_rate   0.005375 0.07331  0.07\n",
       " Residual             0.904708 0.95116      \n",
       "Number of obs: 32832, groups:  cntry, 20\n",
       "\n",
       "Coefficients:\n",
       "            Estimate Std.Err t value    Df  Lower   Upper   Pr(>|t|)     \n",
       "(Intercept) -0.0237  0.0596   -0.3987 32830 -0.1405  0.0930 0.6901       \n",
       "diff_rate    0.0930  0.0175    5.3043 32830  0.0587  0.1274 1.138e-07 ***\n",
       "---\n",
       "Signif. codes:  0 '***' 0.001 '**' 0.01 '*' 0.05 '.' 0.1 ' ' 1"
      ]
     },
     "metadata": {},
     "output_type": "display_data"
    }
   ],
   "source": [
    "ris_mod0 <- lmer(xeno ~ diff_rate +(1+ diff_rate| cntry), data = data,weights = pweights_a)\n",
    "ris_mod0_t <- lmer_t(ris_mod0, method = \"Heuristic\") # Alternativelym, method = \"Heuristic\" for M-l-1 rule.\n",
    "summary(ris_mod0_t)\n",
    "ris_mod0_o <- texreg::extract(ris_mod0)\n",
    "ris_mod0_o@pvalues <- summary(ris_mod0_t)$coef[,7]"
   ]
  },
  {
   "cell_type": "code",
   "execution_count": 17,
   "id": "fd2d9123",
   "metadata": {
    "scrolled": true
   },
   "outputs": [
    {
     "data": {
      "text/plain": [
       "Linear mixed model fit by REML ['lmerMod']\n",
       "   t-tests use the Heuristic method.\n",
       "Formula: xeno ~ national_iden.j + diff_rate + (1 + diff_rate | cntry)\n",
       "   Data: data\n",
       "Weights: pweights_a\n",
       "\n",
       "REML criterion at convergence: 93145.6\n",
       "\n",
       "Scaled residuals: \n",
       "    Min      1Q  Median      3Q     Max \n",
       "-5.5026 -0.6053  0.0134  0.5462  4.3560 \n",
       "\n",
       "Random effects:\n",
       " Groups   Name        Variance Std.Dev. Corr\n",
       " cntry    (Intercept) 0.072022 0.2684       \n",
       "          diff_rate   0.005358 0.0732   0.03\n",
       " Residual             0.904710 0.9512       \n",
       "Number of obs: 32832, groups:  cntry, 20\n",
       "\n",
       "Coefficients:\n",
       "                Estimate Std.Err t value    Df  Lower   Upper   Pr(>|t|)     \n",
       "(Intercept)     -0.0238  0.0603   -0.3945    18 -0.1505  0.1029 0.6978       \n",
       "national_iden.j -0.0429  0.0618   -0.6939    18 -0.1728  0.0870 0.4966       \n",
       "diff_rate        0.0930  0.0175    5.3079 32830  0.0586  0.1273 1.116e-07 ***\n",
       "---\n",
       "Signif. codes:  0 '***' 0.001 '**' 0.01 '*' 0.05 '.' 0.1 ' ' 1"
      ]
     },
     "metadata": {},
     "output_type": "display_data"
    }
   ],
   "source": [
    "ris_mod1 <- lmer(xeno ~ national_iden.j+diff_rate +(1+ diff_rate| cntry), data = data,weights = pweights_a)\n",
    "ris_mod1_t <- lmer_t(ris_mod1, method = \"Heuristic\") # Alternativelym, method = \"Heuristic\" for M-l-1 rule.\n",
    "summary(ris_mod1_t)\n",
    "ris_mod1_o <- texreg::extract(ris_mod1)\n",
    "ris_mod1_o@pvalues <- summary(ris_mod1_t)$coef[,7]"
   ]
  },
  {
   "cell_type": "code",
   "execution_count": 18,
   "id": "a8fffaba",
   "metadata": {},
   "outputs": [
    {
     "data": {
      "text/plain": [
       "Linear mixed model fit by REML ['lmerMod']\n",
       "   t-tests use the Heuristic method.\n",
       "Formula: xeno ~ diff_rate + national_iden.j + age + education + friends +  \n",
       "    residence + media + (1 + diff_rate | cntry)\n",
       "   Data: data\n",
       "Weights: pweights_a\n",
       "\n",
       "REML criterion at convergence: 90547.8\n",
       "\n",
       "Scaled residuals: \n",
       "    Min      1Q  Median      3Q     Max \n",
       "-5.2399 -0.6029 -0.0185  0.5612  5.0249 \n",
       "\n",
       "Random effects:\n",
       " Groups   Name        Variance Std.Dev. Corr\n",
       " cntry    (Intercept) 0.053674 0.23168      \n",
       "          diff_rate   0.004732 0.06879  0.17\n",
       " Residual             0.835035 0.91380      \n",
       "Number of obs: 32832, groups:  cntry, 20\n",
       "\n",
       "Coefficients:\n",
       "                Estimate Std.Err t value    Df  Lower   Upper   Pr(>|t|)     \n",
       "(Intercept)     -0.0068  0.0521   -0.1311    18 -0.1164  0.1027 0.8972       \n",
       "diff_rate        0.0808  0.0165    4.8851 32825  0.0484  0.1132 1.039e-06 ***\n",
       "national_iden.j -0.0504  0.0527   -0.9561    18 -0.1612  0.0604 0.3517       \n",
       "age              0.0278  0.0056    4.9860 32825  0.0169  0.0387 6.197e-07 ***\n",
       "education       -0.1499  0.0057  -26.4198 32825 -0.1610 -0.1388 < 2.2e-16 ***\n",
       "friends         -0.1574  0.0054  -29.3899 32825 -0.1679 -0.1469 < 2.2e-16 ***\n",
       "residence       -0.0467  0.0053   -8.8584 32825 -0.0570 -0.0364 < 2.2e-16 ***\n",
       "media            0.0569  0.0055   10.2715 32825  0.0460  0.0677 < 2.2e-16 ***\n",
       "---\n",
       "Signif. codes:  0 '***' 0.001 '**' 0.01 '*' 0.05 '.' 0.1 ' ' 1"
      ]
     },
     "metadata": {},
     "output_type": "display_data"
    }
   ],
   "source": [
    "ris_mod2 <- lmer(xeno ~ diff_rate+national_iden.j+age+education+friends+residence+media+(1+ diff_rate| cntry), data = data,weights = pweights_a)\n",
    "ris_mod2_t <- lmer_t(ris_mod2, method = \"Heuristic\") # Alternativelym, method = \"Heuristic\" for M-l-1 rule.\n",
    "summary(ris_mod2_t)\n",
    "ris_mod2_o <- texreg::extract(ris_mod2)\n",
    "ris_mod2_o@pvalues <- summary(ris_mod2_t)$coef[,7]"
   ]
  },
  {
   "cell_type": "code",
   "execution_count": 19,
   "id": "db690398",
   "metadata": {},
   "outputs": [
    {
     "data": {
      "text/plain": [
       "Linear mixed model fit by REML ['lmerMod']\n",
       "   t-tests use the Heuristic method.\n",
       "Formula: xeno ~ diff_rate + national_iden.j + age + education + friends +  \n",
       "    residence + media + econ_inse.j + (1 + diff_rate | cntry)\n",
       "   Data: data\n",
       "Weights: pweights_a\n",
       "\n",
       "REML criterion at convergence: 90538.7\n",
       "\n",
       "Scaled residuals: \n",
       "    Min      1Q  Median      3Q     Max \n",
       "-5.2243 -0.6028 -0.0180  0.5615  5.0226 \n",
       "\n",
       "Random effects:\n",
       " Groups   Name        Variance Std.Dev. Corr\n",
       " cntry    (Intercept) 0.040156 0.2004       \n",
       "          diff_rate   0.004816 0.0694   0.65\n",
       " Residual             0.835031 0.9138       \n",
       "Number of obs: 32832, groups:  cntry, 20\n",
       "\n",
       "Coefficients:\n",
       "                Estimate Std.Err t value    Df  Lower   Upper   Pr(>|t|)     \n",
       "(Intercept)     -0.0072  0.0452   -0.1603    17 -0.1026  0.0881 0.8745342    \n",
       "diff_rate        0.0812  0.0167    4.8764 32825  0.0486  0.1139 1.085e-06 ***\n",
       "national_iden.j  0.0095  0.0377    0.2510    17 -0.0700  0.0889 0.8048338    \n",
       "age              0.0279  0.0056    5.0122 32825  0.0170  0.0388 5.410e-07 ***\n",
       "education       -0.1499  0.0057  -26.4331 32825 -0.1610 -0.1388 < 2.2e-16 ***\n",
       "friends         -0.1572  0.0054  -29.3444 32825 -0.1677 -0.1467 < 2.2e-16 ***\n",
       "residence       -0.0469  0.0053   -8.9012 32825 -0.0572 -0.0366 < 2.2e-16 ***\n",
       "media            0.0567  0.0055   10.2500 32825  0.0459  0.0676 < 2.2e-16 ***\n",
       "econ_inse.j      0.1863  0.0377    4.9363    17  0.1067  0.2659 0.0001252 ***\n",
       "---\n",
       "Signif. codes:  0 '***' 0.001 '**' 0.01 '*' 0.05 '.' 0.1 ' ' 1"
      ]
     },
     "metadata": {},
     "output_type": "display_data"
    }
   ],
   "source": [
    "ris_mod3 <- lmer(xeno ~ diff_rate+national_iden.j+age+education+friends+residence+media+econ_inse.j+(1+ diff_rate| cntry), data = data,weights = pweights_a)\n",
    "ris_mod3_t <- lmer_t(ris_mod3, method = \"Heuristic\") # Alternativelym, method = \"Heuristic\" for M-l-1 rule.\n",
    "summary(ris_mod3_t)\n",
    "ris_mod3_o <- texreg::extract(ris_mod3)\n",
    "ris_mod3_o@pvalues <- summary(ris_mod3_t)$coef[,7]"
   ]
  },
  {
   "cell_type": "code",
   "execution_count": 20,
   "id": "a37ca3d1",
   "metadata": {},
   "outputs": [
    {
     "data": {
      "text/plain": [
       "Linear mixed model fit by REML ['lmerMod']\n",
       "   t-tests use the Heuristic method.\n",
       "Formula: xeno ~ diff_rate * national_iden.j + age + education + friends +  \n",
       "    residence + media + econ_inse.j + (1 + diff_rate | cntry)\n",
       "   Data: data\n",
       "Weights: pweights_a\n",
       "\n",
       "REML criterion at convergence: 90543.9\n",
       "\n",
       "Scaled residuals: \n",
       "    Min      1Q  Median      3Q     Max \n",
       "-5.2320 -0.6026 -0.0180  0.5613  5.0226 \n",
       "\n",
       "Random effects:\n",
       " Groups   Name        Variance Std.Dev. Corr\n",
       " cntry    (Intercept) 0.039908 0.19977      \n",
       "          diff_rate   0.004676 0.06838  0.65\n",
       " Residual             0.835040 0.91381      \n",
       "Number of obs: 32832, groups:  cntry, 20\n",
       "\n",
       "Coefficients:\n",
       "                          Estimate Std.Err t value    Df  Lower   Upper  \n",
       "(Intercept)               -0.0077  0.0450   -0.1701    17 -0.1027  0.0874\n",
       "diff_rate                  0.0808  0.0165    4.9091 32825  0.0485  0.1130\n",
       "national_iden.j           -0.0209  0.0469   -0.4457    17 -0.1198  0.0780\n",
       "age                        0.0279  0.0056    5.0005 32825  0.0169  0.0388\n",
       "education                 -0.1499  0.0057  -26.4403 32825 -0.1610 -0.1388\n",
       "friends                   -0.1572  0.0054  -29.3434 32825 -0.1677 -0.1467\n",
       "residence                 -0.0469  0.0053   -8.9044 32825 -0.0572 -0.0366\n",
       "media                      0.0568  0.0055   10.2549 32825  0.0459  0.0676\n",
       "econ_inse.j                0.1864  0.0377    4.9477    17  0.1069  0.2659\n",
       "diff_rate:national_iden.j -0.0185  0.0169   -1.0969    17 -0.0541  0.0171\n",
       "                          Pr(>|t|)     \n",
       "(Intercept)               0.8669392    \n",
       "diff_rate                 9.192e-07 ***\n",
       "national_iden.j           0.6614122    \n",
       "age                       5.748e-07 ***\n",
       "education                 < 2.2e-16 ***\n",
       "friends                   < 2.2e-16 ***\n",
       "residence                 < 2.2e-16 ***\n",
       "media                     < 2.2e-16 ***\n",
       "econ_inse.j               0.0001223 ***\n",
       "diff_rate:national_iden.j 0.2879834    \n",
       "---\n",
       "Signif. codes:  0 '***' 0.001 '**' 0.01 '*' 0.05 '.' 0.1 ' ' 1"
      ]
     },
     "metadata": {},
     "output_type": "display_data"
    }
   ],
   "source": [
    "ris_mod4 <- lmer(xeno ~ diff_rate*national_iden.j+age+education+friends+residence+media+econ_inse.j+(1+ diff_rate| cntry), data = data,weights = pweights_a)\n",
    "ris_mod4_t <- lmer_t(ris_mod4, method = \"Heuristic\") # Alternativelym, method = \"Heuristic\" for M-l-1 rule.\n",
    "summary(ris_mod4_t)\n",
    "ris_mod4_o <- texreg::extract(ris_mod4)\n",
    "ris_mod4_o@pvalues <- summary(ris_mod4_t)$coef[,7]"
   ]
  },
  {
   "cell_type": "code",
   "execution_count": 21,
   "id": "ae76d1c1",
   "metadata": {},
   "outputs": [],
   "source": [
    "#Output results"
   ]
  },
  {
   "cell_type": "code",
   "execution_count": 22,
   "id": "6d5e5fc0",
   "metadata": {},
   "outputs": [
    {
     "name": "stderr",
     "output_type": "stream",
     "text": [
      "The table was written to the file 'final.html'.\n",
      "\n",
      "\n"
     ]
    }
   ],
   "source": [
    "# Final\n",
    "htmlreg(\n",
    "  list(ri_mod3_o,ris_mod0_o,ris_mod1_o,ris_mod2_o,ris_mod3_o,ris_mod4_o), \n",
    "  file=\"final.html\", \n",
    "  include.ci = FALSE, \n",
    "  custom.coef.names = c(\n",
    "    \"Intercept\",\n",
    "    \"Misperception\",\n",
    "    \"National Identity\",\n",
    "    \"Age\",\n",
    "    \"Education\",\n",
    "      \"Cross-ethnic Friends\",\n",
    "    \"Residence\",\n",
    "        \"Media Consumption\",\n",
    "      \"Economic Insecurity\",\n",
    "      \"National_Identity:Misperception\"\n",
    "  ),\n",
    "  custom.model.names = c(\n",
    "    \"Model 1 RI\", \"Model 2 RIS\", \"Model 3 RIS\" ,\"Model 4 RIS\" ,\"Model 5 RIS\", \"Model 6 RIS\"\n",
    "  ),\n",
    "  groups = c(\n",
    "    \"Intercept\" = list(1:1),\n",
    "    \"Individual level predictor\" = list(2:2),\n",
    "      \"Country level predictor\" = list(3:3),\n",
    "          \"Individual level control variables\" = list(4:8),\n",
    "      \"Country level control variables\" = list(9:9),\n",
    "      \"Cross-level interactions\"= list(10:10)\n",
    "    \n",
    "  ),\n",
    "  digits = 3,\n",
    "  caption = \"\"\n",
    "  )\n",
    "\n",
    "\n",
    "webshot(\"final.html\", \"final.png\")"
   ]
  },
  {
   "cell_type": "code",
   "execution_count": 23,
   "id": "f307ae6e",
   "metadata": {
    "scrolled": true
   },
   "outputs": [
    {
     "data": {
      "image/png": "[encoded data removed]",
      "text/plain": [
       "plot without title"
      ]
     },
     "metadata": {
      "image/png": {
       "height": 420,
       "width": 420
      }
     },
     "output_type": "display_data"
    }
   ],
   "source": [
    "### Residual plot ###\n",
    "\n",
    "data_res <- data %>%\n",
    "  mutate(preds = predict(ris_mod4)) %>%\n",
    "  mutate(res = xeno - preds)\n",
    "\n",
    "p <- ggplot(data_res, aes(x=res, fill = \"1\")) +\n",
    "geom_density() +\n",
    "  geom_vline(xintercept = 0, alpha=0.8, linetype='dashed') +\n",
    "  scale_fill_manual(values = c(\"gray\")) +\n",
    "  scale_y_discrete(expand=c(0.08, 0)) +\n",
    "  labs(y=\"Density\", x = \"Residuals\") +\n",
    "  facet_wrap(~cntry, nrow=4) +\n",
    "  theme_light() %+% theme(\n",
    "    strip.background =element_rect(fill=\"white\"), \n",
    "    strip.text = element_text(colour = 'black'),\n",
    "    legend.position = \"none\")\n",
    "\n",
    "p\n",
    "\n",
    "ggsave(\"residuals.png\", dpi= 600, width = 8, height = 3)\n"
   ]
  },
  {
   "cell_type": "code",
   "execution_count": null,
   "id": "412e5990",
   "metadata": {},
   "outputs": [],
   "source": []
  },
  {
   "cell_type": "code",
   "execution_count": 24,
   "id": "8eb4f2d1",
   "metadata": {},
   "outputs": [
    {
     "name": "stderr",
     "output_type": "stream",
     "text": [
      "Warning message in checkConv(attr(opt, \"derivs\"), opt$par, ctrl = control$checkConv, :\n",
      "\"Model failed to converge with max|grad| = 0.00389516 (tol = 0.002, component 1)\"\n",
      "Warning message in checkConv(attr(opt, \"derivs\"), opt$par, ctrl = control$checkConv, :\n",
      "\"Model failed to converge with max|grad| = 0.00582993 (tol = 0.002, component 1)\"\n",
      "Warning message in checkConv(attr(opt, \"derivs\"), opt$par, ctrl = control$checkConv, :\n",
      "\"Model failed to converge with max|grad| = 0.00773541 (tol = 0.002, component 1)\"\n",
      "Warning message in checkConv(attr(opt, \"derivs\"), opt$par, ctrl = control$checkConv, :\n",
      "\"Model failed to converge with max|grad| = 0.00241019 (tol = 0.002, component 1)\"\n",
      "Warning message in checkConv(attr(opt, \"derivs\"), opt$par, ctrl = control$checkConv, :\n",
      "\"Model failed to converge with max|grad| = 0.00502055 (tol = 0.002, component 1)\"\n"
     ]
    },
    {
     "data": {
      "text/html": [
       "<table class=\"dataframe\">\n",
       "<caption>A tibble: 20 × 4</caption>\n",
       "<thead>\n",
       "\t<tr><th scope=col>rowname</th><th scope=col>national_iden.j</th><th scope=col>diff_rate</th><th scope=col>diff_rate.national_iden.j</th></tr>\n",
       "\t<tr><th scope=col>&lt;chr&gt;</th><th scope=col>&lt;dbl&gt;</th><th scope=col>&lt;dbl&gt;</th><th scope=col>&lt;dbl&gt;</th></tr>\n",
       "</thead>\n",
       "<tbody>\n",
       "\t<tr><td>AT</td><td> 0.044838075</td><td> 0.24772523</td><td> 0.0440126031</td></tr>\n",
       "\t<tr><td>BE</td><td>-0.127914092</td><td> 0.07483686</td><td>-0.0668937834</td></tr>\n",
       "\t<tr><td>CH</td><td>-0.003487759</td><td>-0.12942020</td><td>-0.0837430660</td></tr>\n",
       "\t<tr><td>CZ</td><td> 0.723561354</td><td> 0.22580009</td><td> 0.2351414532</td></tr>\n",
       "\t<tr><td>DE</td><td> 0.015119432</td><td> 0.06945330</td><td>-0.1345319163</td></tr>\n",
       "\t<tr><td>DK</td><td> 0.297858030</td><td> 0.41236751</td><td> 0.5404040668</td></tr>\n",
       "\t<tr><td>EE</td><td> 0.137575051</td><td>-0.22203966</td><td> 0.2260756063</td></tr>\n",
       "\t<tr><td>ES</td><td>-0.013300675</td><td> 0.21749037</td><td> 0.0044013501</td></tr>\n",
       "\t<tr><td>FI</td><td>-0.220581433</td><td>-0.16694386</td><td>-0.1870555295</td></tr>\n",
       "\t<tr><td>FR</td><td> 0.019303049</td><td> 0.06035233</td><td>-0.0007187997</td></tr>\n",
       "\t<tr><td>GB</td><td>-0.152211668</td><td> 0.51754884</td><td>-0.8032306608</td></tr>\n",
       "\t<tr><td>HU</td><td> 0.124154787</td><td>-0.27808543</td><td>-0.0838629834</td></tr>\n",
       "\t<tr><td>IE</td><td>-0.130378068</td><td>-0.07254850</td><td>-0.0284025461</td></tr>\n",
       "\t<tr><td>LT</td><td> 0.377529938</td><td>-0.60470727</td><td> 0.7218535215</td></tr>\n",
       "\t<tr><td>NL</td><td>-0.063062754</td><td> 0.01841876</td><td>-0.0301919697</td></tr>\n",
       "\t<tr><td>NO</td><td> 0.355725579</td><td> 0.01173190</td><td> 0.0193198799</td></tr>\n",
       "\t<tr><td>PL</td><td>-0.418556437</td><td>-0.12702180</td><td>-0.0903670420</td></tr>\n",
       "\t<tr><td>PT</td><td>-0.034246129</td><td>-0.06113148</td><td>-0.0104440589</td></tr>\n",
       "\t<tr><td>SE</td><td>-0.258067000</td><td>-0.18140774</td><td>-0.1489226270</td></tr>\n",
       "\t<tr><td>SI</td><td>-0.497178365</td><td> 0.05881931</td><td>-0.1082052017</td></tr>\n",
       "</tbody>\n",
       "</table>\n"
      ],
      "text/latex": [
       "A tibble: 20 × 4\n",
       "\\begin{tabular}{llll}\n",
       " rowname & national\\_iden.j & diff\\_rate & diff\\_rate.national\\_iden.j\\\\\n",
       " <chr> & <dbl> & <dbl> & <dbl>\\\\\n",
       "\\hline\n",
       "\t AT &  0.044838075 &  0.24772523 &  0.0440126031\\\\\n",
       "\t BE & -0.127914092 &  0.07483686 & -0.0668937834\\\\\n",
       "\t CH & -0.003487759 & -0.12942020 & -0.0837430660\\\\\n",
       "\t CZ &  0.723561354 &  0.22580009 &  0.2351414532\\\\\n",
       "\t DE &  0.015119432 &  0.06945330 & -0.1345319163\\\\\n",
       "\t DK &  0.297858030 &  0.41236751 &  0.5404040668\\\\\n",
       "\t EE &  0.137575051 & -0.22203966 &  0.2260756063\\\\\n",
       "\t ES & -0.013300675 &  0.21749037 &  0.0044013501\\\\\n",
       "\t FI & -0.220581433 & -0.16694386 & -0.1870555295\\\\\n",
       "\t FR &  0.019303049 &  0.06035233 & -0.0007187997\\\\\n",
       "\t GB & -0.152211668 &  0.51754884 & -0.8032306608\\\\\n",
       "\t HU &  0.124154787 & -0.27808543 & -0.0838629834\\\\\n",
       "\t IE & -0.130378068 & -0.07254850 & -0.0284025461\\\\\n",
       "\t LT &  0.377529938 & -0.60470727 &  0.7218535215\\\\\n",
       "\t NL & -0.063062754 &  0.01841876 & -0.0301919697\\\\\n",
       "\t NO &  0.355725579 &  0.01173190 &  0.0193198799\\\\\n",
       "\t PL & -0.418556437 & -0.12702180 & -0.0903670420\\\\\n",
       "\t PT & -0.034246129 & -0.06113148 & -0.0104440589\\\\\n",
       "\t SE & -0.258067000 & -0.18140774 & -0.1489226270\\\\\n",
       "\t SI & -0.497178365 &  0.05881931 & -0.1082052017\\\\\n",
       "\\end{tabular}\n"
      ],
      "text/markdown": [
       "\n",
       "A tibble: 20 × 4\n",
       "\n",
       "| rowname &lt;chr&gt; | national_iden.j &lt;dbl&gt; | diff_rate &lt;dbl&gt; | diff_rate.national_iden.j &lt;dbl&gt; |\n",
       "|---|---|---|---|\n",
       "| AT |  0.044838075 |  0.24772523 |  0.0440126031 |\n",
       "| BE | -0.127914092 |  0.07483686 | -0.0668937834 |\n",
       "| CH | -0.003487759 | -0.12942020 | -0.0837430660 |\n",
       "| CZ |  0.723561354 |  0.22580009 |  0.2351414532 |\n",
       "| DE |  0.015119432 |  0.06945330 | -0.1345319163 |\n",
       "| DK |  0.297858030 |  0.41236751 |  0.5404040668 |\n",
       "| EE |  0.137575051 | -0.22203966 |  0.2260756063 |\n",
       "| ES | -0.013300675 |  0.21749037 |  0.0044013501 |\n",
       "| FI | -0.220581433 | -0.16694386 | -0.1870555295 |\n",
       "| FR |  0.019303049 |  0.06035233 | -0.0007187997 |\n",
       "| GB | -0.152211668 |  0.51754884 | -0.8032306608 |\n",
       "| HU |  0.124154787 | -0.27808543 | -0.0838629834 |\n",
       "| IE | -0.130378068 | -0.07254850 | -0.0284025461 |\n",
       "| LT |  0.377529938 | -0.60470727 |  0.7218535215 |\n",
       "| NL | -0.063062754 |  0.01841876 | -0.0301919697 |\n",
       "| NO |  0.355725579 |  0.01173190 |  0.0193198799 |\n",
       "| PL | -0.418556437 | -0.12702180 | -0.0903670420 |\n",
       "| PT | -0.034246129 | -0.06113148 | -0.0104440589 |\n",
       "| SE | -0.258067000 | -0.18140774 | -0.1489226270 |\n",
       "| SI | -0.497178365 |  0.05881931 | -0.1082052017 |\n",
       "\n"
      ],
      "text/plain": [
       "   rowname national_iden.j diff_rate   diff_rate.national_iden.j\n",
       "1  AT       0.044838075     0.24772523  0.0440126031            \n",
       "2  BE      -0.127914092     0.07483686 -0.0668937834            \n",
       "3  CH      -0.003487759    -0.12942020 -0.0837430660            \n",
       "4  CZ       0.723561354     0.22580009  0.2351414532            \n",
       "5  DE       0.015119432     0.06945330 -0.1345319163            \n",
       "6  DK       0.297858030     0.41236751  0.5404040668            \n",
       "7  EE       0.137575051    -0.22203966  0.2260756063            \n",
       "8  ES      -0.013300675     0.21749037  0.0044013501            \n",
       "9  FI      -0.220581433    -0.16694386 -0.1870555295            \n",
       "10 FR       0.019303049     0.06035233 -0.0007187997            \n",
       "11 GB      -0.152211668     0.51754884 -0.8032306608            \n",
       "12 HU       0.124154787    -0.27808543 -0.0838629834            \n",
       "13 IE      -0.130378068    -0.07254850 -0.0284025461            \n",
       "14 LT       0.377529938    -0.60470727  0.7218535215            \n",
       "15 NL      -0.063062754     0.01841876 -0.0301919697            \n",
       "16 NO       0.355725579     0.01173190  0.0193198799            \n",
       "17 PL      -0.418556437    -0.12702180 -0.0903670420            \n",
       "18 PT      -0.034246129    -0.06113148 -0.0104440589            \n",
       "19 SE      -0.258067000    -0.18140774 -0.1489226270            \n",
       "20 SI      -0.497178365     0.05881931 -0.1082052017            "
      ]
     },
     "metadata": {},
     "output_type": "display_data"
    }
   ],
   "source": [
    "#Systematic macro outlier analysis\n",
    "\n",
    "\n",
    "# Estimate -j models\n",
    "one_out_models <- influence(model = ris_mod4, group = \"cntry\")\n",
    "# Calculate the DFBETAs and turn into tibble\n",
    "(DFBETAs <- dfbetas(one_out_models) %>% \n",
    "    data.frame() %>% \n",
    "    rownames_to_column() %>% \n",
    "    as_tibble() %>%\n",
    "    select(rowname, national_iden.j, diff_rate, \n",
    "           diff_rate.national_iden.j))\n",
    "\n",
    "\n",
    "DFBETAs <- pivot_longer(\n",
    "  DFBETAs, \n",
    "  cols = c(\"national_iden.j\", \"diff_rate\",\n",
    "           \"diff_rate.national_iden.j\"), \n",
    "  names_to = \"Variable\")\n"
   ]
  },
  {
   "cell_type": "code",
   "execution_count": 25,
   "id": "4ffafa0e",
   "metadata": {},
   "outputs": [
    {
     "data": {
      "image/png": "[encoded data removed]",
      "text/plain": [
       "plot without title"
      ]
     },
     "metadata": {
      "image/png": {
       "height": 420,
       "width": 420
      }
     },
     "output_type": "display_data"
    }
   ],
   "source": [
    "p<-ggplot(data = DFBETAs, \n",
    "       aes(y = value, x = Variable, label = rowname)) +\n",
    "  geom_violin(color = \"gray\") +\n",
    "  geom_text(position=position_jitter(width=0.2,height=0)) +\n",
    "  geom_hline(yintercept = 2/sqrt(20), color = \"#901A1E\") +\n",
    "  geom_hline(yintercept = -2/sqrt(20), color = \"#901A1E\") +\n",
    "  theme_minimal() +\n",
    "  labs(y = \"DFBETA\")\n",
    "\n",
    "p\n",
    "ggsave(\"outliers.png\", dpi= 600, width =5, height =8 )"
   ]
  },
  {
   "cell_type": "code",
   "execution_count": 26,
   "id": "985ab77a",
   "metadata": {},
   "outputs": [],
   "source": [
    "# BLUP for RIs\n",
    "blups <- as.data.frame(ranef(ris_mod4) %>% as_tibble()) %>% \n",
    "  spread(term, condval) %>%\n",
    "  mutate(grp = as.character(grp)) %>%\n",
    "  group_by(grp) %>%\n",
    "  summarise(Intercept = `(Intercept)`[which(!is.na(`(Intercept)`))[1]],\n",
    "            Slope = diff_rate[which(!is.na(diff_rate))[1]]) %>%\n",
    "  arrange(Slope) %>%\n",
    "  rename(Country=grp) %>%\n",
    "  mutate_if(is.numeric, round, 3)\n",
    "\n",
    "average_intercept <- ris_mod4@beta[1]\n",
    "average_slope<- ris_mod4@beta[2]\n"
   ]
  },
  {
   "cell_type": "code",
   "execution_count": 27,
   "id": "bb03b251",
   "metadata": {},
   "outputs": [
    {
     "data": {
      "image/png": "[encoded data removed]",
      "text/plain": [
       "plot without title"
      ]
     },
     "metadata": {
      "image/png": {
       "height": 420,
       "width": 420
      }
     },
     "output_type": "display_data"
    }
   ],
   "source": [
    "blups <- blups %>% arrange(Slope)\n",
    "p <- ggplot(blups, aes(x=factor(Country, levels=Country), y=Slope+average_slope)) +\n",
    "  geom_point(size=3) +\n",
    "  labs(y = expression(\"Estimated Slope\"), x = \"Country\")  +\n",
    "  geom_hline(yintercept=average_slope, alpha=0.7) +\n",
    "  scale_y_continuous(\n",
    "    limits = c(-0.1,0.2),\n",
    "    breaks = c(-0.1,-0.05,0,0.05,average_slope,0.1,0.15,0.2), \n",
    "    labels = c(\"-0.1\",\"-0.05\",\"0\",\"0.05\",\"average_slope\",\"0.1\",\"0.15\",\"0.2\")\n",
    "  ) +\n",
    "  theme_light() %+% theme(legend.position = \"none\")\n",
    "p\n",
    "\n",
    "ggsave(\"estimate_slope.png\", dpi= 600, width = 6, height = 4)"
   ]
  },
  {
   "cell_type": "code",
   "execution_count": 28,
   "id": "06b192db",
   "metadata": {},
   "outputs": [
    {
     "data": {
      "image/png": "[encoded data removed]",
      "text/plain": [
       "plot without title"
      ]
     },
     "metadata": {
      "image/png": {
       "height": 420,
       "width": 420
      }
     },
     "output_type": "display_data"
    }
   ],
   "source": [
    "blups <- blups %>% arrange(Intercept)\n",
    "p <- ggplot(blups, aes(x=factor(Country, levels=Country), y=Intercept+average_intercept)) +\n",
    "  geom_point(size=3) +\n",
    "  labs(y = expression(\"Estimated Intercept\"), x = \"Country\")  +\n",
    "  geom_hline(yintercept=average_intercept, alpha=0.7) +\n",
    "  scale_y_continuous(\n",
    "    limits = c(-0.4,0.4),\n",
    "    breaks = c(-0.4,-0.3,-0.2,-0.1,0,average_intercept,0.1,0.2,0.3,0.4), \n",
    "    labels = c(\"-0.4\",\"-0.3\",\"-0.2\",\"-0.1\",\"0\",\"average_intercept\",\"0.1\",\"0.2\",\"0.3\",\"0.4\")\n",
    "  ) +\n",
    "  theme_light() %+% theme(legend.position = \"none\")\n",
    "p\n",
    "\n",
    "ggsave(\"estimate_intercept.png\", dpi= 600, width = 6, height = 4)"
   ]
  },
  {
   "cell_type": "code",
   "execution_count": 29,
   "id": "a41e87e4",
   "metadata": {
    "scrolled": true
   },
   "outputs": [
    {
     "data": {
      "text/plain": [
       "Linear mixed model fit by REML ['lmerMod']\n",
       "   t-tests use the Heuristic method.\n",
       "Formula: xeno ~ diff_rate * national_iden.j + age + education + friends +  \n",
       "    residence + media + econ_inse.j + (1 + diff_rate | cntry)\n",
       "   Data: data_after1\n",
       "Weights: pweights_a\n",
       "\n",
       "REML criterion at convergence: 68548.4\n",
       "\n",
       "Scaled residuals: \n",
       "    Min      1Q  Median      3Q     Max \n",
       "-5.1304 -0.6103 -0.0145  0.5586  5.0570 \n",
       "\n",
       "Random effects:\n",
       " Groups   Name        Variance Std.Dev. Corr\n",
       " cntry    (Intercept) 0.033271 0.1824       \n",
       "          diff_rate   0.001521 0.0390   0.51\n",
       " Residual             0.819058 0.9050       \n",
       "Number of obs: 25100, groups:  cntry, 15\n",
       "\n",
       "Coefficients:\n",
       "                          Estimate Std.Err t value    Df  Lower   Upper  \n",
       "(Intercept)               -0.0369  0.0481   -0.7682    12 -0.1416  0.0678\n",
       "diff_rate                  0.0715  0.0120    5.9485 25093  0.0479  0.0951\n",
       "national_iden.j           -0.0600  0.0603   -0.9948    12 -0.1913  0.0714\n",
       "age                        0.0127  0.0063    2.0169 25093  0.0004  0.0251\n",
       "education                 -0.1502  0.0063  -23.6499 25093 -0.1626 -0.1377\n",
       "friends                   -0.1650  0.0061  -27.0666 25093 -0.1770 -0.1531\n",
       "residence                 -0.0495  0.0059   -8.3840 25093 -0.0611 -0.0379\n",
       "media                      0.0572  0.0063    9.1265 25093  0.0449  0.0694\n",
       "econ_inse.j                0.1594  0.0475    3.3543    12  0.0558  0.2629\n",
       "diff_rate:national_iden.j -0.0316  0.0147   -2.1550    12 -0.0636  0.0003\n",
       "                          Pr(>|t|)     \n",
       "(Intercept)               0.457246     \n",
       "diff_rate                 2.743e-09 ***\n",
       "national_iden.j           0.339462     \n",
       "age                       0.043714  *  \n",
       "education                 < 2.2e-16 ***\n",
       "friends                   < 2.2e-16 ***\n",
       "residence                 < 2.2e-16 ***\n",
       "media                     < 2.2e-16 ***\n",
       "econ_inse.j               0.005735  ** \n",
       "diff_rate:national_iden.j 0.052171  .  \n",
       "---\n",
       "Signif. codes:  0 '***' 0.001 '**' 0.01 '*' 0.05 '.' 0.1 ' ' 1"
      ]
     },
     "metadata": {},
     "output_type": "display_data"
    }
   ],
   "source": [
    "data_after1 <- data %>% # Drop outliers\n",
    "  filter(cntry != \"CZ\" & cntry != \"LT\" & \n",
    "           cntry != \"SI\" & cntry != \"GB\" & cntry != \"DK\")\n",
    "ris_mod5 <- lmer(xeno ~ diff_rate*national_iden.j+age+education+friends+residence+media+econ_inse.j+(1+ diff_rate| cntry), data = data_after1,weights = pweights_a)\n",
    "ris_mod5_t <- lmer_t(ris_mod5, method = \"Heuristic\") # Alternativelym, method = \"Heuristic\" for M-l-1 rule.\n",
    "summary(ris_mod5_t)\n",
    "ris_mod5_o <- texreg::extract(ris_mod5)\n",
    "ris_mod5_o@pvalues <- summary(ris_mod5_t)$coef[,7]"
   ]
  },
  {
   "cell_type": "code",
   "execution_count": 30,
   "id": "2b653c30",
   "metadata": {
    "scrolled": true
   },
   "outputs": [
    {
     "name": "stderr",
     "output_type": "stream",
     "text": [
      "The table was written to the file 'without outliers.html'.\n",
      "\n",
      "\n"
     ]
    }
   ],
   "source": [
    "htmlreg(\n",
    "  list(ris_mod4_o,ris_mod5_o), \n",
    "  file=\"without outliers.html\", \n",
    "  include.ci = FALSE, \n",
    "  custom.coef.names = c(\n",
    "    \"Intercept\",\n",
    "    \"Misperception\",\n",
    "    \"National Identity\",\n",
    "    \"Age\",\n",
    "    \"Education\",\n",
    "     \"Cross-ethnic Friends\",\n",
    "    \"Residence\",\n",
    "        \"Media Consumption\",\n",
    "      \"Economic Insecurity\",\n",
    "      \"National_Identity:Misperception\"\n",
    "  ),\n",
    "  custom.model.names = c(\n",
    "    \"RIS Model\",\"Without Outliers\"\n",
    "  ),\n",
    "  groups = c(\n",
    "    \"Intercept\" = list(1:1),\n",
    "    \"Individual level predictor\" = list(2:2),\n",
    "      \"Country level predictor\" = list(3:3),\n",
    "          \"Individual level control variables\" = list(4:8),\n",
    "      \"Country level control variables\" = list(9:9),\n",
    "      \"Cross-level interactions\"= list(10:10)\n",
    "    \n",
    "  ),\n",
    "  digits = 3,\n",
    "  caption = \"\",\n",
    "  custom.gof.rows = list(\"ICC\" = c(\n",
    "    paste0(round(icc(ris_mod4)*100, digits=2),\"%\"),\n",
    "    paste0(round(icc(ris_mod5)*100, digits=2),\"%\")\n",
    "  )\n",
    "  )\n",
    ")\n",
    "webshot(\"without outliers.html\", \"without outliers.png\")"
   ]
  }
 ],
 "metadata": {
  "kernelspec": {
   "display_name": "R",
   "language": "R",
   "name": "ir"
  },
  "language_info": {
   "codemirror_mode": "r",
   "file_extension": ".r",
   "mimetype": "text/x-r-source",
   "name": "R",
   "pygments_lexer": "r",
   "version": "4.2.0"
  }
 },
 "nbformat": 4,
 "nbformat_minor": 5
}
